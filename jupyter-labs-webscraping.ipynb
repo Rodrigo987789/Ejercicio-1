{
 "cells": [
  {
   "cell_type": "markdown",
   "metadata": {},
   "source": [
    "<p style=\"text-align:center\">\n",
    "    <a href=\"https://skills.network\" target=\"_blank\">\n",
    "    <img src=\"https://cf-courses-data.s3.us.cloud-object-storage.appdomain.cloud/assets/logos/SN_web_lightmode.png\" width=\"200\" alt=\"Skills Network Logo\">\n",
    "    </a>\n",
    "</p>\n"
   ]
  },
  {
   "cell_type": "markdown",
   "metadata": {},
   "source": [
    "# **Space X  Falcon 9 First Stage Landing Prediction**\n"
   ]
  },
  {
   "cell_type": "markdown",
   "metadata": {},
   "source": [
    "## Web scraping Falcon 9 and Falcon Heavy Launches Records from Wikipedia\n"
   ]
  },
  {
   "cell_type": "markdown",
   "metadata": {},
   "source": [
    "Estimated time needed: **40** minutes\n"
   ]
  },
  {
   "cell_type": "markdown",
   "metadata": {},
   "source": [
    "In this lab, you will be performing web scraping to collect Falcon 9 historical launch records from a Wikipedia page titled `List of Falcon 9 and Falcon Heavy launches`\n",
    "\n",
    "https://en.wikipedia.org/wiki/List_of_Falcon_9_and_Falcon_Heavy_launches\n"
   ]
  },
  {
   "cell_type": "markdown",
   "metadata": {},
   "source": [
    "![](https://cf-courses-data.s3.us.cloud-object-storage.appdomain.cloud/IBM-DS0321EN-SkillsNetwork/labs/module_1_L2/images/Falcon9_rocket_family.svg)\n"
   ]
  },
  {
   "cell_type": "markdown",
   "metadata": {},
   "source": [
    "Falcon 9 first stage will land successfully\n"
   ]
  },
  {
   "cell_type": "markdown",
   "metadata": {},
   "source": [
    "![](https://cf-courses-data.s3.us.cloud-object-storage.appdomain.cloud/IBMDeveloperSkillsNetwork-DS0701EN-SkillsNetwork/api/Images/landing_1.gif)\n"
   ]
  },
  {
   "cell_type": "markdown",
   "metadata": {},
   "source": [
    "Several examples of an unsuccessful landing are shown here:\n"
   ]
  },
  {
   "cell_type": "markdown",
   "metadata": {},
   "source": [
    "![](https://cf-courses-data.s3.us.cloud-object-storage.appdomain.cloud/IBMDeveloperSkillsNetwork-DS0701EN-SkillsNetwork/api/Images/crash.gif)\n"
   ]
  },
  {
   "cell_type": "markdown",
   "metadata": {},
   "source": [
    "More specifically, the launch records are stored in a HTML table shown below:\n"
   ]
  },
  {
   "cell_type": "markdown",
   "metadata": {},
   "source": [
    "![](https://cf-courses-data.s3.us.cloud-object-storage.appdomain.cloud/IBM-DS0321EN-SkillsNetwork/labs/module_1_L2/images/falcon9-launches-wiki.png)\n"
   ]
  },
  {
   "cell_type": "markdown",
   "metadata": {},
   "source": [
    "  ## Objectives\n",
    "Web scrap Falcon 9 launch records with `BeautifulSoup`: \n",
    "- Extract a Falcon 9 launch records HTML table from Wikipedia\n",
    "- Parse the table and convert it into a Pandas data frame\n"
   ]
  },
  {
   "cell_type": "markdown",
   "metadata": {},
   "source": [
    "First let's import required packages for this lab\n"
   ]
  },
  {
   "cell_type": "code",
   "execution_count": 1,
   "metadata": {
    "tags": []
   },
   "outputs": [
    {
     "name": "stdout",
     "output_type": "stream",
     "text": [
      "Requirement already satisfied: beautifulsoup4 in /home/jupyterlab/conda/envs/python/lib/python3.7/site-packages (4.11.1)\n",
      "Requirement already satisfied: soupsieve>1.2 in /home/jupyterlab/conda/envs/python/lib/python3.7/site-packages (from beautifulsoup4) (2.3.2.post1)\n",
      "Requirement already satisfied: requests in /home/jupyterlab/conda/envs/python/lib/python3.7/site-packages (2.29.0)\n",
      "Requirement already satisfied: charset-normalizer<4,>=2 in /home/jupyterlab/conda/envs/python/lib/python3.7/site-packages (from requests) (3.1.0)\n",
      "Requirement already satisfied: idna<4,>=2.5 in /home/jupyterlab/conda/envs/python/lib/python3.7/site-packages (from requests) (3.4)\n",
      "Requirement already satisfied: urllib3<1.27,>=1.21.1 in /home/jupyterlab/conda/envs/python/lib/python3.7/site-packages (from requests) (1.26.15)\n",
      "Requirement already satisfied: certifi>=2017.4.17 in /home/jupyterlab/conda/envs/python/lib/python3.7/site-packages (from requests) (2023.5.7)\n"
     ]
    }
   ],
   "source": [
    "!pip3 install beautifulsoup4\n",
    "!pip3 install requests"
   ]
  },
  {
   "cell_type": "code",
   "execution_count": 2,
   "metadata": {
    "tags": []
   },
   "outputs": [],
   "source": [
    "import sys\n",
    "\n",
    "import requests\n",
    "from bs4 import BeautifulSoup\n",
    "import re\n",
    "import unicodedata\n",
    "import pandas as pd"
   ]
  },
  {
   "cell_type": "markdown",
   "metadata": {},
   "source": [
    "and we will provide some helper functions for you to process web scraped HTML table\n"
   ]
  },
  {
   "cell_type": "code",
   "execution_count": 3,
   "metadata": {
    "tags": []
   },
   "outputs": [],
   "source": [
    "def date_time(table_cells):\n",
    "    \"\"\"\n",
    "    This function returns the data and time from the HTML  table cell\n",
    "    Input: the  element of a table data cell extracts extra row\n",
    "    \"\"\"\n",
    "    return [data_time.strip() for data_time in list(table_cells.strings)][0:2]\n",
    "\n",
    "def booster_version(table_cells):\n",
    "    \"\"\"\n",
    "    This function returns the booster version from the HTML  table cell \n",
    "    Input: the  element of a table data cell extracts extra row\n",
    "    \"\"\"\n",
    "    out=''.join([booster_version for i,booster_version in enumerate( table_cells.strings) if i%2==0][0:-1])\n",
    "    return out\n",
    "\n",
    "def landing_status(table_cells):\n",
    "    \"\"\"\n",
    "    This function returns the landing status from the HTML table cell \n",
    "    Input: the  element of a table data cell extracts extra row\n",
    "    \"\"\"\n",
    "    out=[i for i in table_cells.strings][0]\n",
    "    return out\n",
    "\n",
    "\n",
    "def get_mass(table_cells):\n",
    "    mass=unicodedata.normalize(\"NFKD\", table_cells.text).strip()\n",
    "    if mass:\n",
    "        mass.find(\"kg\")\n",
    "        new_mass=mass[0:mass.find(\"kg\")+2]\n",
    "    else:\n",
    "        new_mass=0\n",
    "    return new_mass\n",
    "\n",
    "\n",
    "def extract_column_from_header(row):\n",
    "    \"\"\"\n",
    "    This function returns the landing status from the HTML table cell \n",
    "    Input: the  element of a table data cell extracts extra row\n",
    "    \"\"\"\n",
    "    if (row.br):\n",
    "        row.br.extract()\n",
    "    if row.a:\n",
    "        row.a.extract()\n",
    "    if row.sup:\n",
    "        row.sup.extract()\n",
    "        \n",
    "    colunm_name = ' '.join(row.contents)\n",
    "    \n",
    "    # Filter the digit and empty names\n",
    "    if not(colunm_name.strip().isdigit()):\n",
    "        colunm_name = colunm_name.strip()\n",
    "        return colunm_name    \n"
   ]
  },
  {
   "cell_type": "markdown",
   "metadata": {},
   "source": [
    "To keep the lab tasks consistent, you will be asked to scrape the data from a snapshot of the  `List of Falcon 9 and Falcon Heavy launches` Wikipage updated on\n",
    "`9th June 2021`\n"
   ]
  },
  {
   "cell_type": "code",
   "execution_count": 4,
   "metadata": {
    "tags": []
   },
   "outputs": [],
   "source": [
    "static_url = \"https://en.wikipedia.org/w/index.php?title=List_of_Falcon_9_and_Falcon_Heavy_launches&oldid=1027686922\""
   ]
  },
  {
   "cell_type": "markdown",
   "metadata": {},
   "source": [
    "Next, request the HTML page from the above URL and get a `response` object\n"
   ]
  },
  {
   "cell_type": "code",
   "execution_count": 5,
   "metadata": {
    "tags": []
   },
   "outputs": [],
   "source": [
    "response = requests.get(static_url)\n",
    "soup = BeautifulSoup(response.content, 'html.parser')\n"
   ]
  },
  {
   "cell_type": "code",
   "execution_count": 6,
   "metadata": {
    "tags": []
   },
   "outputs": [],
   "source": [
    "launch_tables = soup.find_all('table', {'class': 'wikitable'})\n"
   ]
  },
  {
   "cell_type": "markdown",
   "metadata": {},
   "source": [
    "### TASK 1: Request the Falcon9 Launch Wiki page from its URL\n"
   ]
  },
  {
   "cell_type": "markdown",
   "metadata": {},
   "source": [
    "First, let's perform an HTTP GET method to request the Falcon9 Launch HTML page, as an HTTP response.\n"
   ]
  },
  {
   "cell_type": "code",
   "execution_count": 7,
   "metadata": {
    "tags": []
   },
   "outputs": [
    {
     "name": "stdout",
     "output_type": "stream",
     "text": [
      "Página solicitada correctamente.\n",
      "Código de estado de la respuesta: 200\n"
     ]
    }
   ],
   "source": [
    "# use requests.get() method with the provided static_url\n",
    "# URL de la página de Wikipedia archivada\n",
    "static_url = \"https://en.wikipedia.org/w/index.php?title=List_of_Falcon_9_and_Falcon_Heavy_launches&oldid=1027686922\"\n",
    "\n",
    "# Realizar solicitud HTTP GET\n",
    "response = requests.get(static_url)\n",
    "\n",
    "# Verificar que la solicitud fue exitosa (código de estado 200)\n",
    "if response.status_code == 200:\n",
    "    print(\"Página solicitada correctamente.\")\n",
    "else:\n",
    "    print(f\"Error al solicitar la página: Código {response.status_code}\")\n",
    "\n",
    "\n",
    "# assign the response to a object\n",
    "# URL estática de la página de Wikipedia\n",
    "static_url = \"https://en.wikipedia.org/w/index.php?title=List_of_Falcon_9_and_Falcon_Heavy_launches&oldid=1027686922\"\n",
    "\n",
    "# Realizar la solicitud HTTP GET y asignar a un objeto llamado 'response'\n",
    "response = requests.get(static_url)\n",
    "\n",
    "# Imprimir el código de estado para verificar éxito\n",
    "print(f\"Código de estado de la respuesta: {response.status_code}\")\n"
   ]
  },
  {
   "cell_type": "code",
   "execution_count": 8,
   "metadata": {
    "tags": []
   },
   "outputs": [
    {
     "name": "stdout",
     "output_type": "stream",
     "text": [
      "Página solicitada correctamente.\n",
      "Código de estado de la respuesta: 200\n"
     ]
    }
   ],
   "source": [
    "import requests\n",
    "\n",
    "# Static URL of the Falcon 9 and Falcon Heavy launches Wikipedia snapshot (June 9, 2021)\n",
    "static_url = \"https://en.wikipedia.org/w/index.php?title=List_of_Falcon_9_and_Falcon_Heavy_launches&oldid=1027686922\"\n",
    "\n",
    "# Perform HTTP GET request\n",
    "response = requests.get(static_url)\n",
    "\n",
    "# Check response status code\n",
    "if response.status_code == 200:\n",
    "    print(\"Página solicitada correctamente.\")\n",
    "else:\n",
    "    print(f\"Error al solicitar la página: Código {response.status_code}\")\n",
    "\n",
    "# Optionally: print status code again for confirmation\n",
    "print(f\"Código de estado de la respuesta: {response.status_code}\")\n"
   ]
  },
  {
   "cell_type": "markdown",
   "metadata": {},
   "source": [
    "Create a `BeautifulSoup` object from the HTML `response`\n"
   ]
  },
  {
   "cell_type": "code",
   "execution_count": 10,
   "metadata": {
    "tags": []
   },
   "outputs": [
    {
     "name": "stdout",
     "output_type": "stream",
     "text": [
      "<!DOCTYPE html>\n",
      "<html class=\"client-nojs vector-feature-language-in-header-enabled vector-feature-language-in-main-page-header-disabled vector-feature-page-tools-pinned-disabled vector-feature-toc-pinned-clientpref-1 vector-feature-main-menu-pinned-disabled vector-feature-limited-width-clientpref-1 vector-feature-limited-width-content-enabled vector-feature-custom-font-size-clientpref-1 vector-feature-appearance-pinned-clientpref-1 vector-feature-night-mode-enabled skin-theme-clientpref-day vect\n"
     ]
    }
   ],
   "source": [
    "# Use BeautifulSoup() to create a BeautifulSoup object from a response text content\n",
    "# Importar BeautifulSoup si aún no está importado\n",
    "from bs4 import BeautifulSoup\n",
    "\n",
    "# Crear el objeto BeautifulSoup usando el contenido de la respuesta\n",
    "soup = BeautifulSoup(response.text, 'html.parser')\n",
    "\n",
    "# Verificar (opcional): imprimir las primeras líneas del HTML\n",
    "print(soup.prettify()[:500])  # Imprime los primeros 500 caracteres del HTML de forma legible\n"
   ]
  },
  {
   "cell_type": "code",
   "execution_count": 11,
   "metadata": {
    "tags": []
   },
   "outputs": [
    {
     "name": "stdout",
     "output_type": "stream",
     "text": [
      "<!DOCTYPE html>\n",
      "<html class=\"client-nojs vector-feature-language-in-header-enabled vector-feature-language-in-main-page-header-disabled vector-feature-page-tools-pinned-disabled vector-feature-toc-pinned-clientpref-1 vector-feature-main-menu-pinned-disabled vector-feature-limited-width-clientpref-1 vector-feature-limited-width-content-enabled vector-feature-custom-font-size-clientpref-1 vector-feature-appearance-pinned-clientpref-1 vector-feature-night-mode-enabled skin-theme-clientpref-day vect\n"
     ]
    }
   ],
   "source": [
    "from bs4 import BeautifulSoup\n",
    "\n",
    "# Crear el objeto BeautifulSoup usando el contenido HTML de la respuesta\n",
    "soup = BeautifulSoup(response.text, 'html.parser')\n",
    "\n",
    "# (Opcional) Imprimir los primeros 500 caracteres del HTML formateado para verificar\n",
    "print(soup.prettify()[:500])\n"
   ]
  },
  {
   "cell_type": "markdown",
   "metadata": {},
   "source": [
    "Print the page title to verify if the `BeautifulSoup` object was created properly \n"
   ]
  },
  {
   "cell_type": "code",
   "execution_count": 12,
   "metadata": {
    "tags": []
   },
   "outputs": [
    {
     "name": "stdout",
     "output_type": "stream",
     "text": [
      "<title>List of Falcon 9 and Falcon Heavy launches - Wikipedia</title>\n",
      "List of Falcon 9 and Falcon Heavy launches - Wikipedia\n"
     ]
    }
   ],
   "source": [
    "# Use soup.title attribute\n",
    "# Obtener el título de la página\n",
    "page_title = soup.title\n",
    "\n",
    "# Mostrar el título (etiqueta completa)\n",
    "print(page_title)\n",
    "\n",
    "# Mostrar solo el texto dentro de la etiqueta <title>\n",
    "print(page_title.string)\n"
   ]
  },
  {
   "cell_type": "code",
   "execution_count": 13,
   "metadata": {
    "tags": []
   },
   "outputs": [
    {
     "name": "stdout",
     "output_type": "stream",
     "text": [
      "<title>List of Falcon 9 and Falcon Heavy launches - Wikipedia</title>\n",
      "List of Falcon 9 and Falcon Heavy launches - Wikipedia\n"
     ]
    }
   ],
   "source": [
    "# Obtener el título de la página\n",
    "page_title = soup.title\n",
    "\n",
    "# Mostrar la etiqueta completa <title>\n",
    "print(page_title)\n",
    "\n",
    "# Mostrar solo el texto dentro de la etiqueta <title>\n",
    "print(page_title.string)\n"
   ]
  },
  {
   "cell_type": "markdown",
   "metadata": {},
   "source": [
    "### TASK 2: Extract all column/variable names from the HTML table header\n"
   ]
  },
  {
   "cell_type": "markdown",
   "metadata": {},
   "source": [
    "Next, we want to collect all relevant column names from the HTML table header\n"
   ]
  },
  {
   "cell_type": "markdown",
   "metadata": {},
   "source": [
    "Let's try to find all tables on the wiki page first. If you need to refresh your memory about `BeautifulSoup`, please check the external reference link towards the end of this lab\n"
   ]
  },
  {
   "cell_type": "code",
   "execution_count": 14,
   "metadata": {
    "tags": []
   },
   "outputs": [
    {
     "name": "stdout",
     "output_type": "stream",
     "text": [
      "Se encontraron 19 tablas en la página.\n",
      "Nombres de columnas extraídos:\n",
      "['Trade name', 'Company type', 'Industry', 'Founded', 'Founder', 'Headquarters', 'Key people', 'Products', 'Revenue', 'Operating income', 'Owner', 'Number of employees', 'Subsidiaries', 'Website']\n"
     ]
    }
   ],
   "source": [
    "import requests\n",
    "from bs4 import BeautifulSoup\n",
    "\n",
    "# 1. URL de la página wiki (puedes cambiarla por la que necesites)\n",
    "url = \"https://en.wikipedia.org/wiki/SpaceX\"\n",
    "\n",
    "# 2. Descargar el contenido HTML\n",
    "response = requests.get(url)\n",
    "\n",
    "# 3. Parsear el HTML con BeautifulSoup\n",
    "soup = BeautifulSoup(response.content, 'html.parser')\n",
    "\n",
    "# 4. Encontrar todas las tablas en la página\n",
    "tables = soup.find_all('table')\n",
    "\n",
    "print(f\"Se encontraron {len(tables)} tablas en la página.\")\n",
    "\n",
    "# 5. Extraer los nombres de columnas de la primera tabla (por ejemplo)\n",
    "first_table = tables[0]\n",
    "\n",
    "# Extraer los headers <th> dentro de la tabla\n",
    "headers = first_table.find_all('th')\n",
    "\n",
    "# Obtener texto limpio de cada header\n",
    "column_names = [header.get_text(strip=True) for header in headers]\n",
    "\n",
    "print(\"Nombres de columnas extraídos:\")\n",
    "print(column_names)\n"
   ]
  },
  {
   "cell_type": "code",
   "execution_count": 15,
   "metadata": {
    "tags": []
   },
   "outputs": [
    {
     "name": "stdout",
     "output_type": "stream",
     "text": [
      "Se encontraron 13 tablas wikitable en la página.\n",
      "Nombres de columnas extraídos de la primera tabla:\n",
      "['Flight No.', 'Date andtime (UTC)', 'Version,Booster[b]', 'Launch site', 'Payload[c]', 'Payload mass', 'Orbit', 'Customer', 'Launchoutcome', 'Boosterlanding', '1', '2', '3', '4', '5', '6', '7']\n"
     ]
    }
   ],
   "source": [
    "import requests\n",
    "from bs4 import BeautifulSoup\n",
    "\n",
    "# URL snapshot for Falcon 9 and Falcon Heavy launches\n",
    "static_url = \"https://en.wikipedia.org/w/index.php?title=List_of_Falcon_9_and_Falcon_Heavy_launches&oldid=1027686922\"\n",
    "\n",
    "# Download the HTML content\n",
    "response = requests.get(static_url)\n",
    "soup = BeautifulSoup(response.content, 'html.parser')\n",
    "\n",
    "# Find all tables with class 'wikitable' (typical for Wikipedia data tables)\n",
    "tables = soup.find_all('table', {'class': 'wikitable'})\n",
    "\n",
    "print(f\"Se encontraron {len(tables)} tablas wikitable en la página.\")\n",
    "\n",
    "# Select the first wikitable as an example (or choose the right one based on inspection)\n",
    "first_table = tables[0]\n",
    "\n",
    "# Extract all header <th> cells in the first table\n",
    "headers = first_table.find_all('th')\n",
    "\n",
    "# Extract clean text for each header\n",
    "column_names = [header.get_text(strip=True) for header in headers]\n",
    "\n",
    "print(\"Nombres de columnas extraídos de la primera tabla:\")\n",
    "print(column_names)\n"
   ]
  },
  {
   "cell_type": "code",
   "execution_count": 16,
   "metadata": {
    "tags": []
   },
   "outputs": [
    {
     "name": "stdout",
     "output_type": "stream",
     "text": [
      "Cantidad de tablas encontradas: 19\n",
      "Se encontraron 19 tablas en la página.\n"
     ]
    }
   ],
   "source": [
    "# Use the find_all function in the BeautifulSoup object, with element type `table`\n",
    "from bs4 import BeautifulSoup\n",
    "import requests\n",
    "\n",
    "# URL de ejemplo (puedes cambiarla)\n",
    "url = 'https://en.wikipedia.org/wiki/SpaceX'\n",
    "\n",
    "# Hacer la petición HTTP\n",
    "response = requests.get(url)\n",
    "\n",
    "# Parsear el contenido HTML\n",
    "soup = BeautifulSoup(response.content, 'html.parser')\n",
    "\n",
    "# Usar find_all para obtener todas las tablas\n",
    "tables = soup.find_all('table')\n",
    "\n",
    "print(f\"Cantidad de tablas encontradas: {len(tables)}\")\n",
    "\n",
    "\n",
    "# Assign the result to a list called `html_tables`\n",
    "from bs4 import BeautifulSoup\n",
    "import requests\n",
    "\n",
    "url = 'https://en.wikipedia.org/wiki/SpaceX'\n",
    "response = requests.get(url)\n",
    "soup = BeautifulSoup(response.content, 'html.parser')\n",
    "\n",
    "# Encontrar todas las tablas y asignarlas a html_tables\n",
    "html_tables = soup.find_all('table')\n",
    "\n",
    "print(f\"Se encontraron {len(html_tables)} tablas en la página.\")\n"
   ]
  },
  {
   "cell_type": "code",
   "execution_count": 17,
   "metadata": {
    "tags": []
   },
   "outputs": [
    {
     "name": "stdout",
     "output_type": "stream",
     "text": [
      "Se encontraron 19 tablas en la página.\n"
     ]
    }
   ],
   "source": [
    "from bs4 import BeautifulSoup\n",
    "import requests\n",
    "\n",
    "# URL de ejemplo (puedes cambiarla por la que necesites)\n",
    "url = 'https://en.wikipedia.org/wiki/SpaceX'\n",
    "\n",
    "# Realizar la solicitud HTTP GET\n",
    "response = requests.get(url)\n",
    "\n",
    "# Parsear el contenido HTML con BeautifulSoup\n",
    "soup = BeautifulSoup(response.content, 'html.parser')\n",
    "\n",
    "# Encontrar todas las tablas y asignarlas a html_tables\n",
    "html_tables = soup.find_all('table')\n",
    "\n",
    "print(f\"Se encontraron {len(html_tables)} tablas en la página.\")\n"
   ]
  },
  {
   "cell_type": "markdown",
   "metadata": {},
   "source": [
    "Starting from the third table is our target table contains the actual launch records.\n"
   ]
  },
  {
   "cell_type": "code",
   "execution_count": 21,
   "metadata": {
    "tags": []
   },
   "outputs": [
    {
     "name": "stdout",
     "output_type": "stream",
     "text": [
      "<table><tbody><tr>\n",
      "<td class=\"sidebar-person-title-image\" style=\"background-color:lavender;color:inherit;\"><span class=\"mw-image-border\" typeof=\"mw:File\"><a class=\"mw-file-description\" href=\"/wiki/File:Elon_Musk,_2018_(cropped).jpg\"><img class=\"mw-file-element\" data-file-height=\"1155\" data-file-width=\"817\" decoding=\"async\" height=\"106\" src=\"//upload.wikimedia.org/wikipedia/commons/thumb/0/06/Elon_Musk%2C_2018_%28cropped%29.jpg/120px-Elon_Musk%2C_2018_%28cropped%29.jpg\" srcset=\"//upload.wikimedia.org/wikipedia/commons/thumb/0/06/Elon_Musk%2C_2018_%28cropped%29.jpg/250px-Elon_Musk%2C_2018_%28cropped%29.jpg 2x\" width=\"75\"/></a></span></td>\n",
      "<td class=\"sidebar-person-title\" style=\"background-color:lavender;color:black;\"><div><span class=\"tmp-color\" style=\"color:black\">This article is part of<br/>a series about</span></div><span class=\"vcard\"><span class=\"fn\"><a href=\"/wiki/Elon_Musk\" title=\"Elon Musk\"><span class=\"tmpl-colored-link\" style=\"color: black; text-decoration: inherit;\">Elon Musk</span></a></span></span></td>\n",
      "</tr></tbody></table>\n"
     ]
    }
   ],
   "source": [
    "# Let's print the third table and check its content\n",
    "first_launch_table = html_tables[2]\n",
    "print(first_launch_table)"
   ]
  },
  {
   "cell_type": "code",
   "execution_count": 22,
   "metadata": {
    "tags": []
   },
   "outputs": [
    {
     "name": "stdout",
     "output_type": "stream",
     "text": [
      "<table>\n",
      " <tbody>\n",
      "  <tr>\n",
      "   <td class=\"sidebar-person-title-image\" style=\"background-color:lavender;color:inherit;\">\n",
      "    <span class=\"mw-image-border\" typeof=\"mw:File\">\n",
      "     <a class=\"mw-file-description\" href=\"/wiki/File:Elon_Musk,_2018_(cropped).jpg\">\n",
      "      <img class=\"mw-file-element\" data-file-height=\"1155\" data-file-width=\"817\" decoding=\"async\" height=\"106\" src=\"//upload.wikimedia.org/wikipedia/commons/thumb/0/06/Elon_Musk%2C_2018_%28cropped%29.jpg/120px-Elon_Musk%2C_2018_%28cropped%29.jpg\" srcset=\"//upload.wikimedia.org/wikipedia/commons/thumb/0/06/Elon_Musk%2C_2018_%28cropped%29.jpg/250px-Elon_Musk%2C_2018_%28cropped%29.jpg 2x\" width=\"75\"/>\n",
      "     </a>\n",
      "    </span>\n",
      "   </td>\n",
      "   <td class=\"sidebar-person-title\" style=\"background-color:lavender;color:black;\">\n",
      "    <div>\n",
      "     <span class=\"tmp-color\" style=\"color:black\">\n",
      "      This article is part of\n",
      "      <br/>\n",
      "      a series about\n",
      "     </span>\n",
      "    </div>\n",
      "    <span class=\"vcard\">\n",
      "     <span class=\"fn\">\n",
      "      <a href=\"/wiki/Elon_Musk\" tit\n"
     ]
    }
   ],
   "source": [
    "# Select the third table (index 2) which contains launch records\n",
    "first_launch_table = html_tables[2]\n",
    "\n",
    "# Print the HTML content of the table (it might be long)\n",
    "print(first_launch_table.prettify()[:1000])  # Print first 1000 chars neatly formatted\n"
   ]
  },
  {
   "cell_type": "markdown",
   "metadata": {},
   "source": [
    "You should able to see the columns names embedded in the table header elements `<th>` as follows:\n"
   ]
  },
  {
   "cell_type": "markdown",
   "metadata": {},
   "source": [
    "```\n",
    "<tr>\n",
    "<th scope=\"col\">Flight No.\n",
    "</th>\n",
    "<th scope=\"col\">Date and<br/>time (<a href=\"/wiki/Coordinated_Universal_Time\" title=\"Coordinated Universal Time\">UTC</a>)\n",
    "</th>\n",
    "<th scope=\"col\"><a href=\"/wiki/List_of_Falcon_9_first-stage_boosters\" title=\"List of Falcon 9 first-stage boosters\">Version,<br/>Booster</a> <sup class=\"reference\" id=\"cite_ref-booster_11-0\"><a href=\"#cite_note-booster-11\">[b]</a></sup>\n",
    "</th>\n",
    "<th scope=\"col\">Launch site\n",
    "</th>\n",
    "<th scope=\"col\">Payload<sup class=\"reference\" id=\"cite_ref-Dragon_12-0\"><a href=\"#cite_note-Dragon-12\">[c]</a></sup>\n",
    "</th>\n",
    "<th scope=\"col\">Payload mass\n",
    "</th>\n",
    "<th scope=\"col\">Orbit\n",
    "</th>\n",
    "<th scope=\"col\">Customer\n",
    "</th>\n",
    "<th scope=\"col\">Launch<br/>outcome\n",
    "</th>\n",
    "<th scope=\"col\"><a href=\"/wiki/Falcon_9_first-stage_landing_tests\" title=\"Falcon 9 first-stage landing tests\">Booster<br/>landing</a>\n",
    "</th></tr>\n",
    "```\n"
   ]
  },
  {
   "cell_type": "markdown",
   "metadata": {},
   "source": [
    "Next, we just need to iterate through the `<th>` elements and apply the provided `extract_column_from_header()` to extract column name one by one\n"
   ]
  },
  {
   "cell_type": "code",
   "execution_count": 30,
   "metadata": {
    "tags": []
   },
   "outputs": [
    {
     "name": "stdout",
     "output_type": "stream",
     "text": [
      "['Trade name', 'Company type', 'Industry', 'Founded', 'Founder', 'Headquarters', 'Key people', 'Products', 'Revenue', 'Operating income', 'Owner', 'Number of employees', 'Subsidiaries', 'Website']\n",
      "Se encontraron 17 elementos <th> en la tabla.\n",
      "Se encontraron 17 elementos <th> en la tabla.\n",
      "['Flight No.', 'Date and time ( UTC )', 'Version, Booster', 'Launch site', 'Payload', 'Payload mass', 'Orbit', 'Customer', 'Launch outcome', 'Booster landing']\n",
      "['Flight No.', 'Date and time ( UTC )', 'Version, Booster', 'Launch site', 'Payload', 'Payload mass', 'Orbit', 'Customer', 'Launch outcome', 'Booster landing']\n"
     ]
    }
   ],
   "source": [
    "column_names = []\n",
    "import requests\n",
    "from bs4 import BeautifulSoup\n",
    "\n",
    "def extract_column_from_header(row):\n",
    "    # Eliminar etiquetas <sup> (notas, referencias)\n",
    "    for sup in row.find_all('sup'):\n",
    "        sup.extract()\n",
    "    # Obtener texto limpio con espacios entre fragmentos y sin espacios extras\n",
    "    column_name = row.get_text(separator=\" \", strip=True)\n",
    "    # Filtrar nombres vacíos o solo números\n",
    "    if column_name == '' or column_name.isdigit():\n",
    "        return None\n",
    "    else:\n",
    "        return column_name\n",
    "\n",
    "# URL de ejemplo\n",
    "url = 'https://en.wikipedia.org/wiki/SpaceX'\n",
    "\n",
    "# Obtener contenido HTML\n",
    "response = requests.get(url)\n",
    "soup = BeautifulSoup(response.content, 'html.parser')\n",
    "\n",
    "# Encontrar todas las tablas\n",
    "html_tables = soup.find_all('table')\n",
    "\n",
    "# Tomar la primera tabla para extraer headers\n",
    "first_table = html_tables[0]\n",
    "\n",
    "# Encontrar todos los elementos <th> en la tabla\n",
    "th_elements = first_table.find_all('th')\n",
    "\n",
    "# Lista para almacenar nombres de columnas\n",
    "column_names = []\n",
    "\n",
    "# Extraer nombre de cada columna usando la función\n",
    "for th in th_elements:\n",
    "    col_name = extract_column_from_header(th)\n",
    "    if col_name:\n",
    "        column_names.append(col_name)\n",
    "\n",
    "# Mostrar resultado\n",
    "print(column_names)\n",
    "\n",
    "\n",
    "# Apply find_all() function with `th` element on first_launch_table\n",
    "th_elements = first_launch_table.find_all('th')\n",
    "\n",
    "\n",
    "# Asumiendo que first_launch_table es una tabla BeautifulSoup\n",
    "th_elements = first_launch_table.find_all('th')\n",
    "\n",
    "print(f\"Se encontraron {len(th_elements)} elementos <th> en la tabla.\")\n",
    "\n",
    "\n",
    "# Asumiendo que first_launch_table ya es un objeto BeautifulSoup que representa la tabla\n",
    "\n",
    "th_elements = first_launch_table.find_all('th')\n",
    "\n",
    "print(f\"Se encontraron {len(th_elements)} elementos <th> en la tabla.\")\n",
    "\n",
    "\n",
    "# Iterate each th element and apply the provided extract_column_from_header() to get a column name\n",
    "column_names = []\n",
    "\n",
    "for th in th_elements:\n",
    "    col_name = extract_column_from_header(th)\n",
    "    if col_name:  # Ignorar valores None o vacíos\n",
    "        column_names.append(col_name)\n",
    "\n",
    "print(column_names)\n",
    "\n",
    "\n",
    "# Append the Non-empty column name (`if name is not None and len(name) > 0`) into a list called column_names\n",
    "column_names = []\n",
    "\n",
    "for th in th_elements:\n",
    "    name = extract_column_from_header(th)\n",
    "    if name is not None and len(name) > 0:\n",
    "        column_names.append(name)\n",
    "\n",
    "print(column_names)\n"
   ]
  },
  {
   "cell_type": "code",
   "execution_count": 31,
   "metadata": {
    "tags": []
   },
   "outputs": [
    {
     "name": "stdout",
     "output_type": "stream",
     "text": [
      "Se encontraron 13 tablas wikitable.\n",
      "Se encontraron 17 elementos <th> en la tabla.\n",
      "Columnas extraídas:\n",
      "['Flight No.', 'Date and time ( UTC )', 'Version, Booster', 'Launch site', 'Payload', 'Payload mass', 'Orbit', 'Customer', 'Launch outcome', 'Booster landing']\n"
     ]
    }
   ],
   "source": [
    "import requests\n",
    "from bs4 import BeautifulSoup\n",
    "\n",
    "def extract_column_from_header(row):\n",
    "    for sup in row.find_all('sup'):\n",
    "        sup.extract()\n",
    "    column_name = row.get_text(separator=\" \", strip=True)\n",
    "    if column_name == '' or column_name.isdigit():\n",
    "        return None\n",
    "    else:\n",
    "        return column_name\n",
    "\n",
    "# URL snapshot Falcon 9 launches\n",
    "static_url = \"https://en.wikipedia.org/w/index.php?title=List_of_Falcon_9_and_Falcon_Heavy_launches&oldid=1027686922\"\n",
    "\n",
    "response = requests.get(static_url)\n",
    "soup = BeautifulSoup(response.content, 'html.parser')\n",
    "\n",
    "# Encontrar tablas wikitable\n",
    "html_tables = soup.find_all('table', {'class': 'wikitable'})\n",
    "print(f\"Se encontraron {len(html_tables)} tablas wikitable.\")\n",
    "\n",
    "# Seleccionar la tabla correcta (ejemplo: la tercera tabla)\n",
    "first_launch_table = html_tables[2]\n",
    "\n",
    "# Extraer headers <th>\n",
    "th_elements = first_launch_table.find_all('th')\n",
    "print(f\"Se encontraron {len(th_elements)} elementos <th> en la tabla.\")\n",
    "\n",
    "column_names = []\n",
    "for th in th_elements:\n",
    "    col_name = extract_column_from_header(th)\n",
    "    if col_name:\n",
    "        column_names.append(col_name)\n",
    "\n",
    "print(\"Columnas extraídas:\")\n",
    "print(column_names)\n"
   ]
  },
  {
   "cell_type": "code",
   "execution_count": 36,
   "metadata": {
    "tags": []
   },
   "outputs": [
    {
     "name": "stdout",
     "output_type": "stream",
     "text": [
      "Column names extracted:\n",
      "['Flight No.', 'Date and time ( UTC )', 'Version, Booster', 'Launch site', 'Payload', 'Payload mass', 'Orbit', 'Customer', 'Launch outcome', 'Booster landing']\n"
     ]
    }
   ],
   "source": [
    "def extract_column_from_header(row):\n",
    "    # Remove <sup> tags (footnotes/references)\n",
    "    for sup in row.find_all('sup'):\n",
    "        sup.extract()\n",
    "    # Get clean text with spaces between fragments, strip leading/trailing whitespace\n",
    "    column_name = row.get_text(separator=\" \", strip=True)\n",
    "    # Filter out empty strings or pure digits\n",
    "    if column_name == '' or column_name.isdigit():\n",
    "        return None\n",
    "    else:\n",
    "        return column_name\n",
    "\n",
    "# Extract all <th> elements from the launch table\n",
    "th_elements = first_launch_table.find_all('th')\n",
    "\n",
    "column_names = []\n",
    "\n",
    "for th in th_elements:\n",
    "    name = extract_column_from_header(th)\n",
    "    if name is not None and len(name) > 0:\n",
    "        column_names.append(name)\n",
    "\n",
    "print(\"Column names extracted:\")\n",
    "print(column_names)\n"
   ]
  },
  {
   "cell_type": "code",
   "execution_count": 38,
   "metadata": {
    "tags": []
   },
   "outputs": [],
   "source": [
    "static_url = \"https://en.wikipedia.org/w/index.php?title=List_of_Falcon_9_and_Falcon_Heavy_launches&oldid=1027686922\"\n",
    "response = requests.get(static_url)\n",
    "soup = BeautifulSoup(response.content, 'html.parser')\n",
    "html_tables = soup.find_all('table', {'class':'wikitable'})\n",
    "first_launch_table = html_tables[2]  # for example, if that's the launch table\n"
   ]
  },
  {
   "cell_type": "code",
   "execution_count": 40,
   "metadata": {
    "tags": []
   },
   "outputs": [
    {
     "name": "stdout",
     "output_type": "stream",
     "text": [
      "['Flight No.', 'Date and time ( UTC )', 'Version, Booster', 'Launch site', 'Payload', 'Payload mass', 'Orbit', 'Customer', 'Launch outcome', 'Booster landing']\n"
     ]
    }
   ],
   "source": [
    "print(column_names)\n"
   ]
  },
  {
   "cell_type": "markdown",
   "metadata": {},
   "source": [
    "Check the extracted column names\n"
   ]
  },
  {
   "cell_type": "code",
   "execution_count": 43,
   "metadata": {
    "tags": []
   },
   "outputs": [
    {
     "name": "stdout",
     "output_type": "stream",
     "text": [
      "['Flight No.', 'Date and time ( UTC )', 'Version, Booster', 'Launch site', 'Payload', 'Payload mass', 'Orbit', 'Customer', 'Launch outcome', 'Booster landing']\n"
     ]
    }
   ],
   "source": [
    "print(column_names)"
   ]
  },
  {
   "cell_type": "markdown",
   "metadata": {},
   "source": [
    "## TASK 3: Create a data frame by parsing the launch HTML tables\n"
   ]
  },
  {
   "cell_type": "markdown",
   "metadata": {},
   "source": [
    "We will create an empty dictionary with keys from the extracted column names in the previous task. Later, this dictionary will be converted into a Pandas dataframe\n"
   ]
  },
  {
   "cell_type": "code",
   "execution_count": 46,
   "metadata": {
    "tags": []
   },
   "outputs": [
    {
     "name": "stdout",
     "output_type": "stream",
     "text": [
      "{'Flight No.': [], 'Date and time ( UTC )': [], 'Launch site': [], 'Payload': [], 'Payload mass': [], 'Orbit': [], 'Customer': [], 'Launch outcome': [], 'Booster landing': [], 'Version Booster': [], 'Date': [], 'Time': []}\n"
     ]
    }
   ],
   "source": [
    "# Inicializar el diccionario con listas vacías para cada columna\n",
    "launch_dict = {col: [] for col in column_names}\n",
    "\n",
    "# Si quieres eliminar una columna irrelevante, usa el nombre exacto (ejemplo: 'Date and time ( UTC )')\n",
    "# Pero cuidado: si esa columna es relevante, no la elimines. Aquí la dejamos.\n",
    "\n",
    "# Renombrar la columna para que coincida con las claves que usarás después (opcional)\n",
    "if 'Version, Booster' in launch_dict:\n",
    "    launch_dict['Version Booster'] = launch_dict.pop('Version, Booster')\n",
    "\n",
    "# Añadir columnas extra que quieras, inicializándolas vacías\n",
    "extra_cols = ['Date', 'Time']\n",
    "for col in extra_cols:\n",
    "    launch_dict[col] = []\n",
    "\n",
    "# Ahora launch_dict tiene una lista vacía para cada columna necesaria\n",
    "\n",
    "print(launch_dict)\n"
   ]
  },
  {
   "cell_type": "code",
   "execution_count": 47,
   "metadata": {
    "tags": []
   },
   "outputs": [],
   "source": [
    "# Eliminar la columna solo si existe, sin lanzar error\n",
    "launch_dict.pop('Date and time ( )', None)\n"
   ]
  },
  {
   "cell_type": "code",
   "execution_count": 53,
   "metadata": {
    "tags": []
   },
   "outputs": [
    {
     "name": "stdout",
     "output_type": "stream",
     "text": [
      "La clave no existía.\n"
     ]
    }
   ],
   "source": [
    "removed = launch_dict.pop('Date and time ( )', None)\n",
    "if removed is None:\n",
    "    print(\"La clave no existía.\")\n",
    "else:\n",
    "    print(\"Clave eliminada.\")\n"
   ]
  },
  {
   "cell_type": "code",
   "execution_count": 54,
   "metadata": {
    "tags": []
   },
   "outputs": [
    {
     "name": "stdout",
     "output_type": "stream",
     "text": [
      "Claves actuales en launch_dict:\n",
      "'Flight No.'\n",
      "'Date and time ( UTC )'\n",
      "'Launch site'\n",
      "'Payload'\n",
      "'Payload mass'\n",
      "'Orbit'\n",
      "'Customer'\n",
      "'Launch outcome'\n",
      "'Booster landing'\n",
      "'Version Booster'\n",
      "'Date'\n",
      "'Time'\n"
     ]
    }
   ],
   "source": [
    "# Mostrar todas las claves para verificar el nombre exacto\n",
    "print(\"Claves actuales en launch_dict:\")\n",
    "for key in launch_dict.keys():\n",
    "    print(repr(key))\n",
    "\n",
    "# Eliminar la clave 'Date and time ( )' solo si existe\n",
    "launch_dict.pop('Date and time ( )', None)\n"
   ]
  },
  {
   "cell_type": "code",
   "execution_count": 56,
   "metadata": {
    "tags": []
   },
   "outputs": [],
   "source": [
    "# Supongamos que ya hiciste:\n",
    "response = requests.get(static_url)\n",
    "soup = BeautifulSoup(response.content, 'html.parser')\n",
    "\n",
    "# Encontrar todas las tablas 'wikitable'\n",
    "html_tables = soup.find_all('table', {'class': 'wikitable'})\n",
    "\n",
    "# Seleccionar la tabla de lanzamientos (tercera tabla)\n",
    "launch_table = html_tables[2]\n",
    "\n",
    "# Ahora puedes extraer columnas\n",
    "columns = launch_table.find_all('th')\n",
    "column_names = [extract_column_from_header(col) for col in columns]\n",
    "column_names = [col for col in column_names if col]\n"
   ]
  },
  {
   "cell_type": "code",
   "execution_count": 58,
   "metadata": {
    "tags": []
   },
   "outputs": [],
   "source": [
    "# Suponiendo que launch_table es tu tabla BeautifulSoup\n",
    "\n",
    "# Extraer nombres de columnas limpiando etiquetas y valores vacíos\n",
    "columns = launch_table.find_all('th')\n",
    "column_names = [extract_column_from_header(col) for col in columns]\n",
    "column_names = [col for col in column_names if col]  # Filtrar None\n",
    "\n",
    "# Crear diccionario con listas vacías para cada columna\n",
    "launch_dict = {col: [] for col in column_names}\n",
    "\n",
    "# Eliminar columna irrelevante, si existe (ajusta el nombre según el correcto)\n",
    "launch_dict.pop('Date and time ( )', None)  # En tu caso probablemente no existe\n",
    "\n",
    "# Inicializar columnas específicas con listas vacías (puedes omitir si ya existen)\n",
    "for key in ['Flight No.', 'Launch site', 'Payload', 'Payload mass', 'Orbit', \n",
    "            'Customer', 'Launch outcome']:\n",
    "    if key not in launch_dict:\n",
    "        launch_dict[key] = []\n",
    "\n",
    "# Agregar columnas personalizadas si no existen aún\n",
    "for key in ['Version Booster', 'Booster landing', 'Date', 'Time']:\n",
    "    if key not in launch_dict:\n",
    "        launch_dict[key] = []\n",
    "\n"
   ]
  },
  {
   "cell_type": "code",
   "execution_count": 60,
   "metadata": {
    "tags": []
   },
   "outputs": [
    {
     "name": "stdout",
     "output_type": "stream",
     "text": [
      "Claves y tamaño de listas en launch_dict:\n",
      "Flight No.: 0 elementos\n",
      "Date and time ( UTC ): 0 elementos\n",
      "Version, Booster: 0 elementos\n",
      "Launch site: 0 elementos\n",
      "Payload: 0 elementos\n",
      "Payload mass: 0 elementos\n",
      "Orbit: 0 elementos\n",
      "Customer: 0 elementos\n",
      "Launch outcome: 0 elementos\n",
      "Booster landing: 0 elementos\n",
      "Version Booster: 0 elementos\n",
      "Date: 0 elementos\n",
      "Time: 0 elementos\n"
     ]
    }
   ],
   "source": [
    "print(\"Claves y tamaño de listas en launch_dict:\")\n",
    "for key, value in launch_dict.items():\n",
    "    print(f\"{key}: {len(value)} elementos\")\n"
   ]
  },
  {
   "cell_type": "code",
   "execution_count": 62,
   "metadata": {
    "tags": []
   },
   "outputs": [
    {
     "name": "stdout",
     "output_type": "stream",
     "text": [
      "Columnas extraídas: ['Flight No.', 'Date and time ( UTC )', 'Version, Booster', 'Launch site', 'Payload', 'Payload mass', 'Orbit', 'Customer', 'Launch outcome', 'Booster landing']\n"
     ]
    }
   ],
   "source": [
    "# Asegúrate de haber ejecutado esto antes\n",
    "tables = soup.find_all('table', class_='wikitable')\n",
    "\n",
    "# Asumimos que la segunda tabla es la de lanzamientos (puedes ajustar el índice si no es correcta)\n",
    "launch_table = tables[1]  # O prueba con tables[2], depende del contenido\n",
    "\n",
    "# Extraer encabezados de la tabla\n",
    "columns = launch_table.find_all('th')\n",
    "column_names = [extract_column_from_header(col) for col in columns]\n",
    "column_names = [col for col in column_names if col]  # Eliminar valores None\n",
    "\n",
    "# Verifica los nombres de columnas encontrados\n",
    "print(\"Columnas extraídas:\", column_names)\n"
   ]
  },
  {
   "cell_type": "code",
   "execution_count": 63,
   "metadata": {
    "tags": []
   },
   "outputs": [],
   "source": [
    "# Crear diccionario con listas vacías para cada columna\n",
    "launch_dict = {col: [] for col in column_names}\n",
    "\n",
    "# Renombrar columna para facilitar uso posterior\n",
    "launch_dict['Version Booster'] = launch_dict.pop('Version, Booster')\n",
    "\n",
    "# Agregar columnas personalizadas (si no están ya)\n",
    "for extra in ['Date', 'Time']:\n",
    "    if extra not in launch_dict:\n",
    "        launch_dict[extra] = []\n"
   ]
  },
  {
   "cell_type": "markdown",
   "metadata": {},
   "source": [
    "Next, we just need to fill up the `launch_dict` with launch records extracted from table rows.\n"
   ]
  },
  {
   "cell_type": "markdown",
   "metadata": {},
   "source": [
    "Usually, HTML tables in Wiki pages are likely to contain unexpected annotations and other types of noises, such as reference links `B0004.1[8]`, missing values `N/A [e]`, inconsistent formatting, etc.\n"
   ]
  },
  {
   "cell_type": "markdown",
   "metadata": {},
   "source": [
    "To simplify the parsing process, we have provided an incomplete code snippet below to help you to fill up the `launch_dict`. Please complete the following code snippet with TODOs or you can choose to write your own logic to parse all launch tables:\n"
   ]
  },
  {
   "cell_type": "code",
   "execution_count": 71,
   "metadata": {
    "tags": []
   },
   "outputs": [
    {
     "name": "stdout",
     "output_type": "stream",
     "text": [
      "\n",
      "Número total de lanzamientos extraídos: 121\n",
      "  Flight No.               Date   Time   Version Booster     Launch site  \\\n",
      "0          1        4 June 2010  18:45  F9 v1.07B0003.18           CCAFS   \n",
      "1          2    8 December 2010  15:43  F9 v1.07B0004.18           CCAFS   \n",
      "2          3        22 May 2012  07:44  F9 v1.07B0005.18           CCAFS   \n",
      "3          4     8 October 2012  00:35  F9 v1.07B0006.18           CCAFS   \n",
      "4          5       1 March 2013  15:10  F9 v1.07B0007.18           CCAFS   \n",
      "5          6  29 September 2013  16:00    F9 v1.17B10038            VAFB   \n",
      "6          7    3 December 2013  22:41           F9 v1.1           CCAFS   \n",
      "7          8     6 January 2014  22:06           F9 v1.1           CCAFS   \n",
      "8          9      18 April 2014  19:25           F9 v1.1  Cape Canaveral   \n",
      "9         10       14 July 2014  15:15           F9 v1.1  Cape Canaveral   \n",
      "\n",
      "                                Payload Payload mass        Orbit Customer  \\\n",
      "0  Dragon Spacecraft Qualification Unit            0          LEO   SpaceX   \n",
      "1                                Dragon            0          LEO     NASA   \n",
      "2                                Dragon       525 kg          LEO     NASA   \n",
      "3                          SpaceX CRS-1     4,700 kg          LEO     NASA   \n",
      "4                          SpaceX CRS-2     4,877 kg          LEO     NASA   \n",
      "5                              CASSIOPE       500 kg  Polar orbit      MDA   \n",
      "6                                 SES-8     3,170 kg          GTO      SES   \n",
      "7                             Thaicom 6     3,325 kg          GTO  Thaicom   \n",
      "8                          SpaceX CRS-3     2,296 kg          LEO     NASA   \n",
      "9                           Orbcomm-OG2     1,316 kg          LEO  Orbcomm   \n",
      "\n",
      "  Launch outcome Booster landing  \n",
      "0      Success\\n         Failure  \n",
      "1        Success         Failure  \n",
      "2        Success    No attempt\\n  \n",
      "3      Success\\n      No attempt  \n",
      "4      Success\\n    No attempt\\n  \n",
      "5        Success    Uncontrolled  \n",
      "6        Success      No attempt  \n",
      "7        Success      No attempt  \n",
      "8      Success\\n      Controlled  \n",
      "9        Success      Controlled  \n"
     ]
    }
   ],
   "source": [
    "import requests\n",
    "from bs4 import BeautifulSoup\n",
    "import pandas as pd\n",
    "import unicodedata\n",
    "\n",
    "# -------- Funciones auxiliares --------\n",
    "def date_time(table_cells):\n",
    "    return [data_time.strip() for data_time in list(table_cells.strings)][0:2]\n",
    "\n",
    "def booster_version(table_cells):\n",
    "    out = ''.join([booster_version for i, booster_version in enumerate(table_cells.strings) if i % 2 == 0][0:-1])\n",
    "    return out\n",
    "\n",
    "def landing_status(table_cells):\n",
    "    out = [i for i in table_cells.strings][0]\n",
    "    return out\n",
    "\n",
    "def get_mass(table_cells):\n",
    "    mass = unicodedata.normalize(\"NFKD\", table_cells.text).strip()\n",
    "    if mass:\n",
    "        idx = mass.find(\"kg\")\n",
    "        if idx != -1:\n",
    "            new_mass = mass[:idx + 2]\n",
    "        else:\n",
    "            new_mass = \"0\"\n",
    "    else:\n",
    "        new_mass = \"0\"\n",
    "    return new_mass\n",
    "\n",
    "# -------- Web scraping --------\n",
    "static_url = \"https://en.wikipedia.org/w/index.php?title=List_of_Falcon_9_and_Falcon_Heavy_launches&oldid=1027686922\"\n",
    "response = requests.get(static_url)\n",
    "soup = BeautifulSoup(response.content, 'html.parser')\n",
    "\n",
    "# -------- Inicializar el diccionario --------\n",
    "launch_dict = {\n",
    "    'Flight No.': [],\n",
    "    'Date': [],\n",
    "    'Time': [],\n",
    "    'Version Booster': [],\n",
    "    'Launch site': [],\n",
    "    'Payload': [],\n",
    "    'Payload mass': [],\n",
    "    'Orbit': [],\n",
    "    'Customer': [],\n",
    "    'Launch outcome': [],\n",
    "    'Booster landing': []\n",
    "}\n",
    "\n",
    "# -------- Parsear las tablas --------\n",
    "extracted_row = 0\n",
    "for table in soup.find_all('table', \"wikitable plainrowheaders collapsible\"):\n",
    "    for rows in table.find_all(\"tr\"):\n",
    "        if rows.th:\n",
    "            if rows.th.string:\n",
    "                flight_number = rows.th.string.strip()\n",
    "                flag = flight_number.isdigit()\n",
    "            else:\n",
    "                flag = False\n",
    "        else:\n",
    "            flag = False\n",
    "\n",
    "        row = rows.find_all('td')\n",
    "\n",
    "        if flag:\n",
    "            extracted_row += 1\n",
    "            # Flight No.\n",
    "            launch_dict['Flight No.'].append(flight_number)\n",
    "\n",
    "            # Date and Time\n",
    "            datatimelist = date_time(row[0])\n",
    "            launch_dict['Date'].append(datatimelist[0].strip(','))\n",
    "            launch_dict['Time'].append(datatimelist[1])\n",
    "\n",
    "            # Version Booster\n",
    "            bv = booster_version(row[1])\n",
    "            if not bv:\n",
    "                bv = row[1].a.string if row[1].a else row[1].text.strip()\n",
    "            launch_dict['Version Booster'].append(bv)\n",
    "\n",
    "            # Launch site\n",
    "            launch_site = row[2].a.string if row[2].a else row[2].text.strip()\n",
    "            launch_dict['Launch site'].append(launch_site)\n",
    "\n",
    "            # Payload\n",
    "            payload = row[3].a.string if row[3].a else row[3].text.strip()\n",
    "            launch_dict['Payload'].append(payload)\n",
    "\n",
    "            # Payload mass\n",
    "            payload_mass = get_mass(row[4])\n",
    "            launch_dict['Payload mass'].append(payload_mass)\n",
    "\n",
    "            # Orbit\n",
    "            orbit = row[5].a.string if row[5].a else row[5].text.strip()\n",
    "            launch_dict['Orbit'].append(orbit)\n",
    "\n",
    "            # Customer\n",
    "            customer = row[6].a.string if row[6].a else row[6].text.strip()\n",
    "            launch_dict['Customer'].append(customer)\n",
    "\n",
    "            # Launch outcome\n",
    "            launch_outcome = list(row[7].strings)[0]\n",
    "            launch_dict['Launch outcome'].append(launch_outcome)\n",
    "\n",
    "            # Booster landing\n",
    "            booster_landing = landing_status(row[8])\n",
    "            launch_dict['Booster landing'].append(booster_landing)\n",
    "\n",
    "# -------- Crear DataFrame --------\n",
    "df = pd.DataFrame(launch_dict)\n",
    "print(f\"\\nNúmero total de lanzamientos extraídos: {len(df)}\")\n",
    "print(df.head(10))  # Mostrar las primeras 10 filas\n"
   ]
  },
  {
   "cell_type": "code",
   "execution_count": 73,
   "metadata": {
    "tags": []
   },
   "outputs": [
    {
     "name": "stdout",
     "output_type": "stream",
     "text": [
      "  Flight No.             Date   Time   Version Booster Launch site  \\\n",
      "0          1      4 June 2010  18:45  F9 v1.07B0003.18       CCAFS   \n",
      "1          2  8 December 2010  15:43  F9 v1.07B0004.18       CCAFS   \n",
      "2          3      22 May 2012  07:44  F9 v1.07B0005.18       CCAFS   \n",
      "3          4   8 October 2012  00:35  F9 v1.07B0006.18       CCAFS   \n",
      "4          5     1 March 2013  15:10  F9 v1.07B0007.18       CCAFS   \n",
      "\n",
      "                                Payload Payload mass Orbit Customer  \\\n",
      "0  Dragon Spacecraft Qualification Unit            0   LEO   SpaceX   \n",
      "1                                Dragon            0   LEO     NASA   \n",
      "2                                Dragon       525 kg   LEO     NASA   \n",
      "3                          SpaceX CRS-1     4,700 kg   LEO     NASA   \n",
      "4                          SpaceX CRS-2     4,877 kg   LEO     NASA   \n",
      "\n",
      "  Launch outcome Booster landing  \n",
      "0      Success\\n         Failure  \n",
      "1        Success         Failure  \n",
      "2        Success    No attempt\\n  \n",
      "3      Success\\n      No attempt  \n",
      "4      Success\\n    No attempt\\n  \n"
     ]
    }
   ],
   "source": [
    "import pandas as pd\n",
    "\n",
    "df = pd.DataFrame(launch_dict)\n",
    "print(df.head())  # Mostrar las primeras filas\n"
   ]
  },
  {
   "cell_type": "markdown",
   "metadata": {},
   "source": [
    "After you have fill in the parsed launch record values into `launch_dict`, you can create a dataframe from it.\n"
   ]
  },
  {
   "cell_type": "code",
   "execution_count": 75,
   "metadata": {
    "tags": []
   },
   "outputs": [],
   "source": [
    "df= pd.DataFrame({ key:pd.Series(value) for key, value in launch_dict.items() })"
   ]
  },
  {
   "cell_type": "markdown",
   "metadata": {},
   "source": [
    "We can now export it to a <b>CSV</b> for the next section, but to make the answers consistent and in case you have difficulties finishing this lab. \n",
    "\n",
    "Following labs will be using a provided dataset to make each lab independent. \n"
   ]
  },
  {
   "cell_type": "markdown",
   "metadata": {},
   "source": [
    "<code>df.to_csv('spacex_web_scraped.csv', index=False)</code>\n"
   ]
  },
  {
   "cell_type": "code",
   "execution_count": 76,
   "metadata": {
    "tags": []
   },
   "outputs": [
    {
     "name": "stdout",
     "output_type": "stream",
     "text": [
      "Valores faltantes en la columna 'LandingPad': 4\n"
     ]
    }
   ],
   "source": [
    "import pandas as pd\n",
    "\n",
    "# Supongamos que esta es tu lista con datos de la columna 'LandingPad'\n",
    "landing_pad = ['LZ-1', None, 'OCISLY', 'LZ-4', None, None, 'JRTI', 'OCISLY', 'LZ-1', None]\n",
    "\n",
    "# Crear un DataFrame\n",
    "df = pd.DataFrame({'LandingPad': landing_pad})\n",
    "\n",
    "# Contar valores faltantes usando isnull()\n",
    "missing_count = df['LandingPad'].isnull().sum()\n",
    "\n",
    "print(\"Valores faltantes en la columna 'LandingPad':\", missing_count)\n"
   ]
  },
  {
   "cell_type": "code",
   "execution_count": 77,
   "metadata": {
    "tags": []
   },
   "outputs": [
    {
     "name": "stdout",
     "output_type": "stream",
     "text": [
      "Número de lanzamientos Falcon 9: 179\n"
     ]
    }
   ],
   "source": [
    "import requests\n",
    "import pandas as pd\n",
    "\n",
    "# Obtener todos los lanzamientos pasados\n",
    "url = \"https://api.spacexdata.com/v4/launches/past\"\n",
    "response = requests.get(url)\n",
    "launches = response.json()\n",
    "\n",
    "# Convertir a DataFrame\n",
    "df = pd.json_normalize(launches)\n",
    "\n",
    "# Obtener datos de los cohetes para identificar Falcon 1 y Falcon 9\n",
    "rockets_url = \"https://api.spacexdata.com/v4/rockets\"\n",
    "rockets_response = requests.get(rockets_url)\n",
    "rockets = rockets_response.json()\n",
    "rockets_df = pd.DataFrame(rockets)\n",
    "\n",
    "# Crear un diccionario id->name para los cohetes\n",
    "rocket_id_name = dict(zip(rockets_df['id'], rockets_df['name']))\n",
    "\n",
    "# Añadir columna con el nombre del cohete al DataFrame de lanzamientos\n",
    "df['rocket_name'] = df['rocket'].map(rocket_id_name)\n",
    "\n",
    "# Filtrar solo lanzamientos de Falcon 9 (excluir Falcon 1)\n",
    "falcon9_launches = df[df['rocket_name'] == 'Falcon 9']\n",
    "\n",
    "print(\"Número de lanzamientos Falcon 9:\", len(falcon9_launches))\n"
   ]
  },
  {
   "cell_type": "markdown",
   "metadata": {},
   "source": [
    "## Authors\n"
   ]
  },
  {
   "cell_type": "markdown",
   "metadata": {},
   "source": [
    "<a href=\"https://www.linkedin.com/in/yan-luo-96288783/\">Yan Luo</a>\n"
   ]
  },
  {
   "cell_type": "markdown",
   "metadata": {},
   "source": [
    "<a href=\"https://www.linkedin.com/in/nayefaboutayoun/\">Nayef Abou Tayoun</a>\n"
   ]
  },
  {
   "cell_type": "markdown",
   "metadata": {},
   "source": [
    "<!--\n",
    "## Change Log\n",
    "-->\n"
   ]
  },
  {
   "cell_type": "markdown",
   "metadata": {},
   "source": [
    "<!--\n",
    "| Date (YYYY-MM-DD) | Version | Changed By | Change Description      |\n",
    "| ----------------- | ------- | ---------- | ----------------------- |\n",
    "| 2021-06-09        | 1.0     | Yan Luo    | Tasks updates           |\n",
    "| 2020-11-10        | 1.0     | Nayef      | Created the initial version |\n",
    "-->\n"
   ]
  },
  {
   "cell_type": "markdown",
   "metadata": {},
   "source": [
    "Copyright © 2021 IBM Corporation. All rights reserved.\n"
   ]
  },
  {
   "cell_type": "code",
   "execution_count": 83,
   "metadata": {},
   "outputs": [
    {
     "name": "stdout",
     "output_type": "stream",
     "text": [
      "Fecha completa: 2006-03-17T00:00:00.000Z\n",
      "Año: 2006\n"
     ]
    }
   ],
   "source": [
    "import requests\n",
    "import pandas as pd\n",
    "\n",
    "# Hacer la solicitud GET a la API de lanzamientos\n",
    "url = \"https://api.spacexdata.com/v4/launches\"\n",
    "response = requests.get(url)\n",
    "\n",
    "# Convertir la respuesta JSON a un DataFrame plano\n",
    "data = pd.json_normalize(response.json())\n",
    "\n",
    "# Ver la primera fila de la columna 'static_fire_date_utc'\n",
    "static_fire_date = data['static_fire_date_utc'].iloc[0]\n",
    "\n",
    "# Mostrar el valor original y el año\n",
    "print(f\"Fecha completa: {static_fire_date}\")\n",
    "\n",
    "# Extraer el año si no es None\n",
    "if pd.notnull(static_fire_date):\n",
    "    year = pd.to_datetime(static_fire_date).year\n",
    "    print(f\"Año: {year}\")\n",
    "else:\n",
    "    print(\"No hay fecha de static fire en la primera fila.\")\n"
   ]
  },
  {
   "cell_type": "code",
   "execution_count": 84,
   "metadata": {
    "tags": []
   },
   "outputs": [
    {
     "name": "stdout",
     "output_type": "stream",
     "text": [
      "Número de lanzamientos de Falcon 9 (excluyendo Falcon 1): 200\n"
     ]
    }
   ],
   "source": [
    "import requests\n",
    "import pandas as pd\n",
    "\n",
    "# Obtener todos los lanzamientos\n",
    "url = \"https://api.spacexdata.com/v4/launches\"\n",
    "response = requests.get(url)\n",
    "launches = response.json()\n",
    "\n",
    "# Normalizar el JSON en un DataFrame plano\n",
    "df = pd.json_normalize(launches)\n",
    "\n",
    "# Los datos de los cohetes están en la columna 'rocket' como IDs, necesitamos obtener info de cohetes\n",
    "# Obtener datos de cohetes\n",
    "rockets_url = \"https://api.spacexdata.com/v4/rockets\"\n",
    "rockets_response = requests.get(rockets_url)\n",
    "rockets = rockets_response.json()\n",
    "df_rockets = pd.DataFrame(rockets)\n",
    "\n",
    "# Crear un diccionario para mapear id de cohete a nombre\n",
    "rocket_id_name_map = dict(zip(df_rockets['id'], df_rockets['name']))\n",
    "\n",
    "# Agregar columna con nombre de cohete al DataFrame de lanzamientos\n",
    "df['rocket_name'] = df['rocket'].map(rocket_id_name_map)\n",
    "\n",
    "# Filtrar lanzamientos que NO sean Falcon 1\n",
    "df_falcon9 = df[df['rocket_name'] != 'Falcon 1']\n",
    "\n",
    "# Contar lanzamientos de Falcon 9 (y otros distintos de Falcon 1)\n",
    "count_falcon9 = df_falcon9.shape[0]\n",
    "\n",
    "print(f\"Número de lanzamientos de Falcon 9 (excluyendo Falcon 1): {count_falcon9}\")\n"
   ]
  },
  {
   "cell_type": "code",
   "execution_count": 90,
   "metadata": {
    "tags": []
   },
   "outputs": [
    {
     "name": "stdout",
     "output_type": "stream",
     "text": [
      "['static_fire_date_utc', 'static_fire_date_unix', 'net', 'window', 'rocket', 'success', 'failures', 'details', 'crew', 'ships', 'capsules', 'payloads', 'launchpad', 'flight_number', 'name', 'date_utc', 'date_unix', 'date_local', 'date_precision', 'upcoming', 'cores', 'auto_update', 'tbd', 'launch_library_id', 'id', 'fairings.reused', 'fairings.recovery_attempt', 'fairings.recovered', 'fairings.ships', 'links.patch.small', 'links.patch.large', 'links.reddit.campaign', 'links.reddit.launch', 'links.reddit.media', 'links.reddit.recovery', 'links.flickr.small', 'links.flickr.original', 'links.presskit', 'links.webcast', 'links.youtube_id', 'links.article', 'links.wikipedia', 'fairings']\n"
     ]
    }
   ],
   "source": [
    "print(df.columns.tolist())\n"
   ]
  },
  {
   "cell_type": "code",
   "execution_count": 91,
   "metadata": {
    "tags": []
   },
   "outputs": [
    {
     "name": "stdout",
     "output_type": "stream",
     "text": [
      "Número de valores faltantes en la columna 'landingPad' dentro de 'cores': 205\n"
     ]
    }
   ],
   "source": [
    "import requests\n",
    "import pandas as pd\n",
    "\n",
    "url = \"https://api.spacexdata.com/v4/launches\"\n",
    "response = requests.get(url)\n",
    "launches = response.json()\n",
    "\n",
    "df = pd.json_normalize(launches, sep='_')\n",
    "\n",
    "# Extraer los valores 'landing_pad' dentro de la lista de 'cores' para cada lanzamiento\n",
    "landing_pads = []\n",
    "\n",
    "for cores_list in df['cores']:\n",
    "    if cores_list:  # si no es None ni vacío\n",
    "        # Extraer 'landing_pad' del primer core (puede haber más de uno)\n",
    "        landing_pad = cores_list[0].get('landing_pad', None)\n",
    "        landing_pads.append(landing_pad)\n",
    "    else:\n",
    "        landing_pads.append(None)\n",
    "\n",
    "# Contar valores faltantes\n",
    "missing_count = sum(pd.isna(landing_pads))\n",
    "print(f\"Número de valores faltantes en la columna 'landingPad' dentro de 'cores': {missing_count}\")\n"
   ]
  },
  {
   "cell_type": "code",
   "execution_count": 92,
   "metadata": {
    "tags": []
   },
   "outputs": [
    {
     "name": "stdout",
     "output_type": "stream",
     "text": [
      "Número de valores faltantes en la columna 'landingPad' dentro de 'cores': 205\n"
     ]
    }
   ],
   "source": [
    "import requests\n",
    "import pandas as pd\n",
    "\n",
    "url = \"https://api.spacexdata.com/v4/launches\"\n",
    "response = requests.get(url)\n",
    "launches = response.json()\n",
    "\n",
    "df = pd.json_normalize(launches, sep='_')\n",
    "\n",
    "landing_pads = []\n",
    "\n",
    "for cores_list in df['cores']:\n",
    "    if cores_list:\n",
    "        landing_pad = cores_list[0].get('landing_pad', None)\n",
    "        landing_pads.append(landing_pad)\n",
    "    else:\n",
    "        landing_pads.append(None)\n",
    "\n",
    "landing_pads_series = pd.Series(landing_pads)\n",
    "missing_count = landing_pads_series.isnull().sum()\n",
    "\n",
    "print(f\"Número de valores faltantes en la columna 'landingPad' dentro de 'cores': {missing_count}\")\n"
   ]
  },
  {
   "cell_type": "code",
   "execution_count": null,
   "metadata": {},
   "outputs": [],
   "source": []
  }
 ],
 "metadata": {
  "kernelspec": {
   "display_name": "Python",
   "language": "python",
   "name": "conda-env-python-py"
  },
  "language_info": {
   "codemirror_mode": {
    "name": "ipython",
    "version": 3
   },
   "file_extension": ".py",
   "mimetype": "text/x-python",
   "name": "python",
   "nbconvert_exporter": "python",
   "pygments_lexer": "ipython3",
   "version": "3.7.12"
  },
  "prev_pub_hash": "64f1b0aac408997185c47caba18730e0028b75e7934a0e5bf0ae73c5cb7ba677"
 },
 "nbformat": 4,
 "nbformat_minor": 4
}
