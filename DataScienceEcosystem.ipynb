{
  "metadata": {
    "kernelspec": {
      "name": "python",
      "display_name": "Python (Pyodide)",
      "language": "python"
    },
    "language_info": {
      "codemirror_mode": {
        "name": "python",
        "version": 3
      },
      "file_extension": ".py",
      "mimetype": "text/x-python",
      "name": "python",
      "nbconvert_exporter": "python",
      "pygments_lexer": "ipython3",
      "version": "3.8"
    }
  },
  "nbformat_minor": 4,
  "nbformat": 4,
  "cells": [
    {
      "cell_type": "markdown",
      "source": "# Data Science Tools and Ecosystem",
      "metadata": {}
    },
    {
      "cell_type": "markdown",
      "source": "En este cuaderno, se resumen las herramientas y ecosistemas de ciencia de datos.",
      "metadata": {}
    },
    {
      "cell_type": "markdown",
      "source": "**Objetivos**\n* Lista de lenguajes populares para Ciencia de Datos\n* Lista de bibliotecas comúnmente utilizadas por científicos de datos\n* Listado de expresiones aritméticas",
      "metadata": {}
    },
    {
      "cell_type": "markdown",
      "source": "print('Algunos de los lenguajes populares que utilizan los científicos de datos son:')\nprint('_____________________________________________________________________________')\nprint ('1. Python')\nprint ('2. R')\nprint ('3. SQL')",
      "metadata": {}
    },
    {
      "cell_type": "code",
      "source": "print('Algunas de las bibliotecas comúnmente utilizadas por los científicos de datos incluyen:')\nprint('_______________________________________________________________________________________')\nprint ('1. pandas')\nprint ('2. numpy')\nprint ('3. matplotlib')",
      "metadata": {
        "trusted": true
      },
      "outputs": [
        {
          "name": "stdout",
          "text": "Algunas de las bibliotecas comúnmente utilizadas por los científicos de datos incluyen:\n_______________________________________________________________________________________\n1. pandas\n2. numpy\n3. matplotlib\n",
          "output_type": "stream"
        }
      ],
      "execution_count": 39
    },
    {
      "cell_type": "markdown",
      "source": "|Herramientas de Ciencia de Datos|\n|--------------------------------|\n|Jupyter Notebook|\n|VS Code (Visual Studio Code)|\n|RStudio|",
      "metadata": {}
    },
    {
      "cell_type": "code",
      "source": "print('A continuación, se presentan algunos ejemplos de evaluación de expresiones aritméticas en Python')\nprint('________________________________________________________________________________________________')\nprint('Suma: 2+1 ')\nSuma = 2 + 1\nprint ('El resultado de la suma es', Suma)\nprint('')\nprint('Resta: 5-3')\nResta = 5 - 3\nprint ('El resultado de la resta es', Resta)\nprint('')\nprint('Multiplicación: 5*3')\nMultiplicacion = 5 * 3\nprint ('El resultado de la multiplicación es', Multiplicacion)\nprint('')\nprint('División: 15/3')\nDivision = 15 / 3\nprint ('El resultado de la suma fue', Division)",
      "metadata": {
        "trusted": true
      },
      "outputs": [
        {
          "name": "stdout",
          "text": "A continuación, se presentan algunos ejemplos de evaluación de expresiones aritméticas en Python\n________________________________________________________________________________________________\nSuma: 2+1 \nEl resultado de la suma es 3\n\nResta: 5-3\nEl resultado de la resta es 2\n\nMultiplicación: 5*3\nEl resultado de la multiplicación es 15\n\nDivisión: 15/3\nEl resultado de la suma fue 5.0\n",
          "output_type": "stream"
        }
      ],
      "execution_count": 47
    },
    {
      "cell_type": "code",
      "source": "print ('Esta es una expresión aritmética simple para multiplicar y luego sumar enteros')\nprint ('______________________________________________________________________________')\nResultado = (3 * 4) + 5\nprint ('El resultado de la siguiente operación aritmética (3 * 4) + 5 es:',Resultado)",
      "metadata": {
        "trusted": true
      },
      "outputs": [
        {
          "name": "stdout",
          "text": "Esta es una expresión aritmética simple para multiplicar y luego sumar enteros\n______________________________________________________________________________\nEl resultado de la siguiente operación aritmética (3 * 4) + 5 es: 17\n",
          "output_type": "stream"
        }
      ],
      "execution_count": 40
    },
    {
      "cell_type": "code",
      "source": "import math\n\nprint('Esto convertirá 200 minutos a horas dividiendo por 60')\nResultado = 200/60\nTruncado = math.trunc(Resultado)\nprint('El resultado de convertir 200 minutos en horas es:',Truncado)",
      "metadata": {
        "trusted": true
      },
      "outputs": [
        {
          "name": "stdout",
          "text": "Esto convertirá 200 minutos a horas dividiendo por 60\nEl resultado de convertir 200 minutos en horas es: 3\n",
          "output_type": "stream"
        }
      ],
      "execution_count": 35
    },
    {
      "cell_type": "markdown",
      "source": "## Autor\nRodrigo Mondaca Godoy",
      "metadata": {}
    },
    {
      "cell_type": "code",
      "source": "",
      "metadata": {
        "trusted": true
      },
      "outputs": [],
      "execution_count": null
    }
  ]
}